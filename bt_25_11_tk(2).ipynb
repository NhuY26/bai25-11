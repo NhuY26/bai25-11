{
  "nbformat": 4,
  "nbformat_minor": 0,
  "metadata": {
    "colab": {
      "name": "bt-25-11-tk(2).ipynb",
      "provenance": [],
      "authorship_tag": "ABX9TyN7N57kOsyV3E992zeozPbC",
      "include_colab_link": true
    },
    "kernelspec": {
      "name": "python3",
      "display_name": "Python 3"
    },
    "language_info": {
      "name": "python"
    }
  },
  "cells": [
    {
      "cell_type": "markdown",
      "metadata": {
        "id": "view-in-github",
        "colab_type": "text"
      },
      "source": [
        "<a href=\"https://colab.research.google.com/github/NhuY26/bai25-11/blob/main/bt_25_11_tk(2).ipynb\" target=\"_parent\"><img src=\"https://colab.research.google.com/assets/colab-badge.svg\" alt=\"Open In Colab\"/></a>"
      ]
    },
    {
      "cell_type": "code",
      "metadata": {
        "colab": {
          "base_uri": "https://localhost:8080/"
        },
        "id": "N3vBbWKKWGfD",
        "outputId": "b3b51b5c-64b8-410f-ffba-84e3ae5237ac"
      },
      "source": [
        "#4\n",
        "import random\n",
        "n = int(input('nhap n: '))\n",
        "a = int(input('nhap a: '))\n",
        "b = int(input('nhap b: '))\n",
        "lst = []\n",
        "for i in range(n):\n",
        "    x = random.randint(a,b)\n",
        "    lst.append(x)\n",
        "print(\"ds chưa sắp xếp\",lst)\n",
        "x = b + 1\n",
        "while (x<a) or x > b:\n",
        "    x = int(input('nhap x: '))\n",
        "for i in range(len(lst)):\n",
        "    for j in range(i+1, len(lst)):\n",
        "        if lst[i] > lst[j]:\n",
        "            lst[i], lst[j] = lst[j], lst[i]\n",
        "print(\"ds đã sắp xếp: \",lst)\n",
        "ketqua = []\n",
        "buoclap = []\n",
        "count = 0\n",
        "for i in range(len(lst)):\n",
        "    if lst[i] == x:\n",
        "        ketqua.append(i)\n",
        "        buoclap.append(count)\n",
        "    count += 1\n",
        "if len(ketqua) > 0:\n",
        "    print(\"Cac phan tu cua danh sach co gia tri bang \", x, \" la \", ketqua)\n",
        "    print(\"so buoc lap \", buoclap)\n",
        "else:\n",
        "    print(\"Khong tim thay\")"
      ],
      "execution_count": 21,
      "outputs": [
        {
          "output_type": "stream",
          "name": "stdout",
          "text": [
            "nhap n: 100\n",
            "nhap a: -5\n",
            "nhap b: 7\n",
            "ds chưa sắp xếp [-2, 5, 2, 7, 6, 1, -5, -1, 1, 2, 2, -4, -2, 3, 3, -3, 2, 6, -5, 3, 5, -4, 4, -5, -5, 3, 4, 0, -1, -4, -1, 6, 6, 3, -4, 2, 4, 4, 6, 5, 2, 3, 2, 6, -1, 7, -1, 7, 2, 4, 1, 4, -1, -1, 6, 1, -2, -4, -5, 3, -5, -4, -4, 3, 4, 0, 6, 5, 6, 2, -3, 1, 3, -4, -1, 7, 5, 6, 2, -1, 1, 2, 0, 1, 1, 7, -4, -3, -4, -3, -1, 1, 5, -1, 2, 6, 3, -5, 5, -2]\n",
            "nhap x: 7\n",
            "ds đã sắp xếp:  [-5, -5, -5, -5, -5, -5, -5, -4, -4, -4, -4, -4, -4, -4, -4, -4, -4, -3, -3, -3, -3, -2, -2, -2, -2, -1, -1, -1, -1, -1, -1, -1, -1, -1, -1, -1, 0, 0, 0, 1, 1, 1, 1, 1, 1, 1, 1, 1, 2, 2, 2, 2, 2, 2, 2, 2, 2, 2, 2, 2, 3, 3, 3, 3, 3, 3, 3, 3, 3, 3, 4, 4, 4, 4, 4, 4, 4, 5, 5, 5, 5, 5, 5, 5, 6, 6, 6, 6, 6, 6, 6, 6, 6, 6, 6, 7, 7, 7, 7, 7]\n",
            "Cac phan tu cua danh sach co gia tri bang  7  la  [95, 96, 97, 98, 99]\n",
            "so buoc lap  [95, 96, 97, 98, 99]\n"
          ]
        }
      ]
    },
    {
      "cell_type": "code",
      "metadata": {
        "id": "nEYtzA-kugQy",
        "colab": {
          "base_uri": "https://localhost:8080/"
        },
        "outputId": "8d8b3b4d-0f26-43b1-970b-43fde45a8792"
      },
      "source": [
        "#3\n",
        "lst = []\n",
        "while True:\n",
        "    n = input(\"Dữ liệu cần nhập cho mảng: \").upper()\n",
        "    print(\"Bạn có muốn tiếp tục hay không? Nhập n hoặc N để dừng!\")\n",
        "    if n == \"N\":\n",
        "        print(\"Dữ liệu đã nhập thành công\")\n",
        "        break\n",
        "    lst.append(float(n))\n",
        "for i in range(len(lst)):\n",
        "    for j in range(i+1, len(lst)):\n",
        "        if lst[i] > lst[j]:\n",
        "            lst[i], lst[j] = lst[j], lst[i]\n",
        "print(lst)\n"
      ],
      "execution_count": null,
      "outputs": [
        {
          "output_type": "stream",
          "name": "stdout",
          "text": [
            "Dữ liệu cần nhập cho mảng: 100\n",
            "Bạn có muốn tiếp tục hay không? Nhập n hoặc N để dừng!\n",
            "Dữ liệu cần nhập cho mảng: 10\n",
            "Bạn có muốn tiếp tục hay không? Nhập n hoặc N để dừng!\n",
            "Dữ liệu cần nhập cho mảng: 20\n",
            "Bạn có muốn tiếp tục hay không? Nhập n hoặc N để dừng!\n",
            "Dữ liệu cần nhập cho mảng: 30\n",
            "Bạn có muốn tiếp tục hay không? Nhập n hoặc N để dừng!\n",
            "Dữ liệu cần nhập cho mảng: n\n",
            "Bạn có muốn tiếp tục hay không? Nhập n hoặc N để dừng!\n",
            "Dữ liệu đã nhập thành công\n",
            "[10.0, 20.0, 30.0, 100.0]\n"
          ]
        }
      ]
    }
  ]
}