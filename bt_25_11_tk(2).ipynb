{
  "nbformat": 4,
  "nbformat_minor": 0,
  "metadata": {
    "colab": {
      "name": "bt-25-11-tk(2).ipynb",
      "provenance": [],
      "authorship_tag": "ABX9TyMeP2TSUqzvQz+iPyum/6m7",
      "include_colab_link": true
    },
    "kernelspec": {
      "name": "python3",
      "display_name": "Python 3"
    },
    "language_info": {
      "name": "python"
    }
  },
  "cells": [
    {
      "cell_type": "markdown",
      "metadata": {
        "id": "view-in-github",
        "colab_type": "text"
      },
      "source": [
        "<a href=\"https://colab.research.google.com/github/NhuY26/bai25-11/blob/main/bt_25_11_tk(2).ipynb\" target=\"_parent\"><img src=\"https://colab.research.google.com/assets/colab-badge.svg\" alt=\"Open In Colab\"/></a>"
      ]
    },
    {
      "cell_type": "code",
      "metadata": {
        "colab": {
          "base_uri": "https://localhost:8080/"
        },
        "id": "N3vBbWKKWGfD",
        "outputId": "ff4bc7d3-1ff6-4bfb-a3c0-98a68eb9537f"
      },
      "source": [
        "#4\n",
        "import random\n",
        "n=int(input(\"so phan tu cua danh sach: \"))\n",
        "a=int(input(\"bat dau: \"))\n",
        "b=int(input(\"ket thuc: \"))\n",
        "l=[]\n",
        "for i in range(n):\n",
        "    l.append(random.randint(a,b))\n",
        "print(\"danh sach\",l)\n",
        "x = int(input(\"gia tri can tim: \"))\n",
        "for i in range(len(l)):\n",
        "    for j in range(i + 1, len(l)):\n",
        "        if l[i] > l[j]:\n",
        "            l[i], l[j] = l[j], l[i]\n",
        "print(\"danh sach sau khi sap xep tang dan\",l)\n",
        "l1=[]\n",
        "l2=[]\n",
        "count = 0\n",
        "for i in range(len(l)):\n",
        "    if l[i] == x:\n",
        "        l1.append(i)\n",
        "        l2.append(count)\n",
        "    count += 1\n",
        "if (len(l1) > 0):\n",
        "    print(\"vi tri cua x: \",l1)\n",
        "    print(\"so lan lap: \", l2)\n",
        "else:\n",
        "    print(\"khong tim thay x\")"
      ],
      "execution_count": 15,
      "outputs": [
        {
          "output_type": "stream",
          "name": "stdout",
          "text": [
            "so phan tu cua danh sach: 100\n",
            "bat dau: -5\n",
            "ket thuc: 7\n",
            "danh sach [5, 6, 0, 5, 0, 1, 6, -4, -1, -2, 1, -5, -4, -3, -2, -4, 2, -1, 7, -1, 1, -4, -3, -5, -2, -3, 4, 0, 1, -5, 1, 0, -3, -3, -4, 4, 5, 3, -3, -3, 7, 2, 3, -4, 4, 5, -5, 5, -3, 1, -4, 3, 6, -2, 0, -2, 4, -5, -3, 0, 7, 6, 7, 6, 5, 0, -2, 4, 0, 7, 1, 3, -5, -1, 1, 2, 7, 5, 7, 0, 1, -3, -2, -1, 3, 4, -4, -2, -1, 7, 2, 1, -1, -4, -4, -4, 3, 3, 1, -4]\n",
            "gia tri can tim: 0\n",
            "danh sach sau khi sap xep tang dan [-5, -5, -5, -5, -5, -5, -4, -4, -4, -4, -4, -4, -4, -4, -4, -4, -4, -4, -3, -3, -3, -3, -3, -3, -3, -3, -3, -3, -2, -2, -2, -2, -2, -2, -2, -2, -1, -1, -1, -1, -1, -1, -1, 0, 0, 0, 0, 0, 0, 0, 0, 0, 1, 1, 1, 1, 1, 1, 1, 1, 1, 1, 1, 2, 2, 2, 2, 3, 3, 3, 3, 3, 3, 3, 4, 4, 4, 4, 4, 4, 5, 5, 5, 5, 5, 5, 5, 6, 6, 6, 6, 6, 7, 7, 7, 7, 7, 7, 7, 7]\n",
            "vi tri cua x:  [43, 44, 45, 46, 47, 48, 49, 50, 51]\n",
            "so lan lap:  [43, 44, 45, 46, 47, 48, 49, 50, 51]\n"
          ]
        }
      ]
    },
    {
      "cell_type": "code",
      "metadata": {
        "id": "nEYtzA-kugQy"
      },
      "source": [
        "#3\n",
        "import random\n",
        "\n",
        "def taodulieu(lim, a, b):\n",
        "    tao = []\n",
        "    count = 0\n",
        "    while(count < lim):\n",
        "        tao.append(int(random.uniform(a, b)))\n",
        "        count += 1\n",
        "    return tao\n",
        "\n",
        "def sapxep(x):\n",
        "    for i in range (0, len(x)-1):\n",
        "        for j in range (i+1, len(x)):\n",
        "            if x[i] > x[j]:\n",
        "                x[i], x[j] = x[j], x[i]\n",
        "    return x\n",
        "\n",
        "def timkiem(a, tmp):\n",
        "    for i in range(0, len(a)):\n",
        "        if (a[i] == tmp):\n",
        "            return i\n",
        "\n",
        "def main():\n",
        "    lim = int(input(\"Nhập số phần tử cần tạo: \"))\n",
        "    a = int(input(\"Nhập giới hạn dưới: \"))\n",
        "    b = int(input(\"Nhập giới hạn trên: \"))\n",
        "    num = taodulieu(lim, a, b)\n",
        "\n",
        "    print(\"Ban đầu:\")\n",
        "    print(num)\n",
        "\n",
        "    print(\"Dữ liệu của mảng sau khi sắp xếp tăng dần:\")\n",
        "    print(sapxep(num))\n",
        "\n",
        "    n = int(input(\"Nhập số cần tìm kiếm:\"))\n",
        "    if(timkiem(sapxep(num), n) == -1):\n",
        "        print(\"Không có kết quả!\")\n",
        "    else:\n",
        "        print(\"Phần tử\", n, \"xuất hiện đầu tiên tại vị trí: \",(timkiem(sapxep(num), n)))\n",
        "        print(\"Số bước lặp bằng: \", (timkiem(sapxep(num), n)+1))\n",
        "\n",
        "if _name__== \"__main_\":\n",
        "    main()"
      ],
      "execution_count": null,
      "outputs": []
    }
  ]
}