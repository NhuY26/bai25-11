{
  "nbformat": 4,
  "nbformat_minor": 0,
  "metadata": {
    "colab": {
      "name": "bt-25-11-tk(2).ipynb",
      "provenance": [],
      "authorship_tag": "ABX9TyOZJ6Ab0AjgHQpN55yCieX8",
      "include_colab_link": true
    },
    "kernelspec": {
      "name": "python3",
      "display_name": "Python 3"
    },
    "language_info": {
      "name": "python"
    }
  },
  "cells": [
    {
      "cell_type": "markdown",
      "metadata": {
        "id": "view-in-github",
        "colab_type": "text"
      },
      "source": [
        "<a href=\"https://colab.research.google.com/github/NhuY26/bai25-11/blob/main/bt_25_11_tk(2).ipynb\" target=\"_parent\"><img src=\"https://colab.research.google.com/assets/colab-badge.svg\" alt=\"Open In Colab\"/></a>"
      ]
    },
    {
      "cell_type": "code",
      "metadata": {
        "colab": {
          "base_uri": "https://localhost:8080/"
        },
        "id": "N3vBbWKKWGfD",
        "outputId": "4239f9d3-a034-4550-f95a-bbe42727bdcc"
      },
      "source": [
        "#4\n",
        "import random\n",
        "n = int(input('nhap n: '))\n",
        "a = int(input('nhap a: '))\n",
        "b = int(input('nhap b: '))\n",
        "lst = []\n",
        "for i in range(n):\n",
        "    x = random.randint(a,b)\n",
        "    lst.append(x)\n",
        "print(lst)\n",
        "x = b + 1\n",
        "while (x<a) or x > b:\n",
        "    x = int(input('nhap x: '))\n",
        "for i in range(len(lst)):\n",
        "    for j in range(i+1, len(lst)):\n",
        "        if lst[i] > lst[j]:\n",
        "            lst[i], lst[j] = lst[j], lst[i]\n",
        "print(lst)\n",
        "l = 0 \n",
        "r = len(lst) -1\n",
        "count = 0\n",
        "flag = False\n",
        "while l <= r:\n",
        "    mid = int((l + r)/2)\n",
        "    count += 1\n",
        "    if x == lst[mid]:\n",
        "        print('chi so',mid)\n",
        "        print('so lan lap',count)\n",
        "        flag = True\n",
        "    if lst[mid] < x:\n",
        "        l = mid + 1\n",
        "    else:\n",
        "        r = mid -1\n",
        "if not flag:\n",
        "    print('khong tim thay')"
      ],
      "execution_count": null,
      "outputs": [
        {
          "output_type": "stream",
          "name": "stdout",
          "text": [
            "nhap n: 10\n",
            "nhap a: 25\n",
            "nhap b: 26\n",
            "[26, 25, 26, 26, 26, 25, 26, 26, 26, 25]\n",
            "nhap x: 25\n",
            "[25, 25, 25, 26, 26, 26, 26, 26, 26, 26]\n",
            "chi so 1\n",
            "so lan lap 2\n",
            "chi so 0\n",
            "so lan lap 3\n"
          ]
        }
      ]
    },
    {
      "cell_type": "code",
      "metadata": {
        "id": "nEYtzA-kugQy",
        "outputId": "81dea3fe-c1a7-4e83-9ece-2b465d5a2943",
        "colab": {
          "base_uri": "https://localhost:8080/"
        }
      },
      "source": [
        "#3\n",
        "import random\n",
        "n=int(input(\"so phan tu cua danh sach : \"))\n",
        "a=int(input(\"bat dau: \"))\n",
        "b=int(input(\"ket thuc: \"))\n",
        "l=[]\n",
        "for i in range(n):\n",
        "    l.append(random.randint(a,b))\n",
        "print(\"danh sach: \",l)\n",
        "x = int(input(\"gia tri can tim: \"))\n",
        "for i in range(len(l)):\n",
        "    for j in range(i + 1, len(l)):\n",
        "        if l[i] > l[j]:\n",
        "            l[i], l[j] = l[j], l[i]\n",
        "print(\"danh sap sap xep theo chieu tang dan\",l)\n",
        "count = 0\n",
        "for i in range(len(l)):\n",
        "    if l[i] == x:\n",
        "        print(\"vi tri cua x\",i)\n",
        "        print(\"so lan lap\",count)\n",
        "        break\n",
        "    count += 1\n",
        "else:\n",
        "    print(\"khong tim thay x\")\n"
      ],
      "execution_count": 16,
      "outputs": [
        {
          "output_type": "stream",
          "name": "stdout",
          "text": [
            "so phan tu cua danh sach : 100\n",
            "bat dau: -5\n",
            "ket thuc: 7\n",
            "danh sach:  [-2, -1, 1, 3, 2, 6, 3, 7, 5, 7, -4, -4, 3, 7, -1, 7, -5, -4, 3, 6, -4, -5, 3, 6, 1, -5, 5, -3, 6, 5, -5, 4, 0, 5, 0, 5, -5, 4, 1, 6, 7, 2, 0, -3, -5, -3, -3, -3, 3, -1, 3, 3, 2, 0, -3, -1, 6, -4, -4, -1, -5, 1, 1, 0, -2, -3, 3, -3, -3, 6, 4, 7, 0, -3, -5, -4, 6, 1, -3, 3, 2, 4, -5, 5, -1, 4, 2, 3, -3, 3, 1, -5, 4, 2, -1, 1, -1, -1, 0, -3]\n",
            "gia tri can tim: 1\n",
            "danh sap sap xep theo chieu tang dan [-5, -5, -5, -5, -5, -5, -5, -5, -5, -5, -4, -4, -4, -4, -4, -4, -4, -3, -3, -3, -3, -3, -3, -3, -3, -3, -3, -3, -3, -3, -2, -2, -1, -1, -1, -1, -1, -1, -1, -1, -1, 0, 0, 0, 0, 0, 0, 0, 1, 1, 1, 1, 1, 1, 1, 1, 2, 2, 2, 2, 2, 2, 3, 3, 3, 3, 3, 3, 3, 3, 3, 3, 3, 3, 4, 4, 4, 4, 4, 4, 5, 5, 5, 5, 5, 5, 6, 6, 6, 6, 6, 6, 6, 6, 7, 7, 7, 7, 7, 7]\n",
            "vi tri cua x 48\n",
            "so lan lap 48\n"
          ]
        }
      ]
    }
  ]
}