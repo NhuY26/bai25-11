{
  "nbformat": 4,
  "nbformat_minor": 0,
  "metadata": {
    "colab": {
      "name": "bt-25-11-tk(2).ipynb",
      "provenance": [],
      "authorship_tag": "ABX9TyPKYXPk7HGfLMBynk90lBGm",
      "include_colab_link": true
    },
    "kernelspec": {
      "name": "python3",
      "display_name": "Python 3"
    },
    "language_info": {
      "name": "python"
    }
  },
  "cells": [
    {
      "cell_type": "markdown",
      "metadata": {
        "id": "view-in-github",
        "colab_type": "text"
      },
      "source": [
        "<a href=\"https://colab.research.google.com/github/NhuY26/bai25-11/blob/main/bt_25_11_tk(2).ipynb\" target=\"_parent\"><img src=\"https://colab.research.google.com/assets/colab-badge.svg\" alt=\"Open In Colab\"/></a>"
      ]
    },
    {
      "cell_type": "code",
      "metadata": {
        "colab": {
          "base_uri": "https://localhost:8080/"
        },
        "id": "N3vBbWKKWGfD",
        "outputId": "4239f9d3-a034-4550-f95a-bbe42727bdcc"
      },
      "source": [
        "#4\n",
        "import random\n",
        "n = int(input('nhap n: '))\n",
        "a = int(input('nhap a: '))\n",
        "b = int(input('nhap b: '))\n",
        "lst = []\n",
        "for i in range(n):\n",
        "    x = random.randint(a,b)\n",
        "    lst.append(x)\n",
        "print(lst)\n",
        "x = b + 1\n",
        "while (x<a) or x > b:\n",
        "    x = int(input('nhap x: '))\n",
        "for i in range(len(lst)):\n",
        "    for j in range(i+1, len(lst)):\n",
        "        if lst[i] > lst[j]:\n",
        "            lst[i], lst[j] = lst[j], lst[i]\n",
        "print(lst)\n",
        "l = 0 \n",
        "r = len(lst) -1\n",
        "count = 0\n",
        "flag = False\n",
        "while l <= r:\n",
        "    mid = int((l + r)/2)\n",
        "    count += 1\n",
        "    if x == lst[mid]:\n",
        "        print('chi so',mid)\n",
        "        print('so lan lap',count)\n",
        "        flag = True\n",
        "    if lst[mid] < x:\n",
        "        l = mid + 1\n",
        "    else:\n",
        "        r = mid -1\n",
        "if not flag:\n",
        "    print('khong tim thay')"
      ],
      "execution_count": null,
      "outputs": [
        {
          "output_type": "stream",
          "name": "stdout",
          "text": [
            "nhap n: 10\n",
            "nhap a: 25\n",
            "nhap b: 26\n",
            "[26, 25, 26, 26, 26, 25, 26, 26, 26, 25]\n",
            "nhap x: 25\n",
            "[25, 25, 25, 26, 26, 26, 26, 26, 26, 26]\n",
            "chi so 1\n",
            "so lan lap 2\n",
            "chi so 0\n",
            "so lan lap 3\n"
          ]
        }
      ]
    },
    {
      "cell_type": "code",
      "metadata": {
        "id": "nEYtzA-kugQy",
        "colab": {
          "base_uri": "https://localhost:8080/"
        },
        "outputId": "8d8b3b4d-0f26-43b1-970b-43fde45a8792"
      },
      "source": [
        "#3\n",
        "lst = []\n",
        "while True:\n",
        "    n = input(\"Dữ liệu cần nhập cho mảng: \").upper()\n",
        "    print(\"Bạn có muốn tiếp tục hay không? Nhập n hoặc N để dừng!\")\n",
        "    if n == \"N\":\n",
        "        print(\"Dữ liệu đã nhập thành công\")\n",
        "        break\n",
        "    lst.append(float(n))\n",
        "for i in range(len(lst)):\n",
        "    for j in range(i+1, len(lst)):\n",
        "        if lst[i] > lst[j]:\n",
        "            lst[i], lst[j] = lst[j], lst[i]\n",
        "print(lst)\n"
      ],
      "execution_count": 17,
      "outputs": [
        {
          "output_type": "stream",
          "name": "stdout",
          "text": [
            "Dữ liệu cần nhập cho mảng: 100\n",
            "Bạn có muốn tiếp tục hay không? Nhập n hoặc N để dừng!\n",
            "Dữ liệu cần nhập cho mảng: 10\n",
            "Bạn có muốn tiếp tục hay không? Nhập n hoặc N để dừng!\n",
            "Dữ liệu cần nhập cho mảng: 20\n",
            "Bạn có muốn tiếp tục hay không? Nhập n hoặc N để dừng!\n",
            "Dữ liệu cần nhập cho mảng: 30\n",
            "Bạn có muốn tiếp tục hay không? Nhập n hoặc N để dừng!\n",
            "Dữ liệu cần nhập cho mảng: n\n",
            "Bạn có muốn tiếp tục hay không? Nhập n hoặc N để dừng!\n",
            "Dữ liệu đã nhập thành công\n",
            "[10.0, 20.0, 30.0, 100.0]\n"
          ]
        }
      ]
    }
  ]
}