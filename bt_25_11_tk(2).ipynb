{
  "nbformat": 4,
  "nbformat_minor": 0,
  "metadata": {
    "colab": {
      "name": "bt-25-11-tk(2).ipynb",
      "provenance": [],
      "authorship_tag": "ABX9TyOR9AhP/Lcd3zKmZcq2LVHj",
      "include_colab_link": true
    },
    "kernelspec": {
      "name": "python3",
      "display_name": "Python 3"
    },
    "language_info": {
      "name": "python"
    }
  },
  "cells": [
    {
      "cell_type": "markdown",
      "metadata": {
        "id": "view-in-github",
        "colab_type": "text"
      },
      "source": [
        "<a href=\"https://colab.research.google.com/github/NhuY26/bai25-11/blob/main/bt_25_11_tk(2).ipynb\" target=\"_parent\"><img src=\"https://colab.research.google.com/assets/colab-badge.svg\" alt=\"Open In Colab\"/></a>"
      ]
    },
    {
      "cell_type": "code",
      "metadata": {
        "colab": {
          "base_uri": "https://localhost:8080/"
        },
        "id": "N3vBbWKKWGfD",
        "outputId": "4239f9d3-a034-4550-f95a-bbe42727bdcc"
      },
      "source": [
        "#4\n",
        "import random\n",
        "n = int(input('nhap n: '))\n",
        "a = int(input('nhap a: '))\n",
        "b = int(input('nhap b: '))\n",
        "lst = []\n",
        "for i in range(n):\n",
        "    x = random.randint(a,b)\n",
        "    lst.append(x)\n",
        "print(lst)\n",
        "x = b + 1\n",
        "while (x<a) or x > b:\n",
        "    x = int(input('nhap x: '))\n",
        "for i in range(len(lst)):\n",
        "    for j in range(i+1, len(lst)):\n",
        "        if lst[i] > lst[j]:\n",
        "            lst[i], lst[j] = lst[j], lst[i]\n",
        "print(lst)\n",
        "l = 0 \n",
        "r = len(lst) -1\n",
        "count = 0\n",
        "flag = False\n",
        "while l <= r:\n",
        "    mid = int((l + r)/2)\n",
        "    count += 1\n",
        "    if x == lst[mid]:\n",
        "        print('chi so',mid)\n",
        "        print('so lan lap',count)\n",
        "        flag = True\n",
        "    if lst[mid] < x:\n",
        "        l = mid + 1\n",
        "    else:\n",
        "        r = mid -1\n",
        "if not flag:\n",
        "    print('khong tim thay')"
      ],
      "execution_count": null,
      "outputs": [
        {
          "output_type": "stream",
          "name": "stdout",
          "text": [
            "nhap n: 10\n",
            "nhap a: 25\n",
            "nhap b: 26\n",
            "[26, 25, 26, 26, 26, 25, 26, 26, 26, 25]\n",
            "nhap x: 25\n",
            "[25, 25, 25, 26, 26, 26, 26, 26, 26, 26]\n",
            "chi so 1\n",
            "so lan lap 2\n",
            "chi so 0\n",
            "so lan lap 3\n"
          ]
        }
      ]
    },
    {
      "cell_type": "code",
      "metadata": {
        "id": "nEYtzA-kugQy"
      },
      "source": [
        "#3\n",
        "import random\n",
        "\n",
        "def taodulieu(lim, a, b):\n",
        "    tao = []\n",
        "    count = 0\n",
        "    while(count < lim):\n",
        "        tao.append(int(random.uniform(a, b)))\n",
        "        count += 1\n",
        "    return tao\n",
        "\n",
        "def sapxep(x):\n",
        "    for i in range (0, len(x)-1):\n",
        "        for j in range (i+1, len(x)):\n",
        "            if x[i] > x[j]:\n",
        "                x[i], x[j] = x[j], x[i]\n",
        "    return x\n",
        "\n",
        "def timkiem(a, tmp):\n",
        "    for i in range(0, len(a)):\n",
        "        if (a[i] == tmp):\n",
        "            return i\n",
        "\n",
        "def main():\n",
        "    lim = int(input(\"Nhập số phần tử cần tạo: \"))\n",
        "    a = int(input(\"Nhập giới hạn dưới: \"))\n",
        "    b = int(input(\"Nhập giới hạn trên: \"))\n",
        "    num = taodulieu(lim, a, b)\n",
        "\n",
        "    print(\"Ban đầu:\")\n",
        "    print(num)\n",
        "\n",
        "    print(\"Dữ liệu của mảng sau khi sắp xếp tăng dần:\")\n",
        "    print(sapxep(num))\n",
        "\n",
        "    n = int(input(\"Nhập số cần tìm kiếm:\"))\n",
        "    if(timkiem(sapxep(num), n) == -1):\n",
        "        print(\"Không có kết quả!\")\n",
        "    else:\n",
        "        print(\"Phần tử\", n, \"xuất hiện đầu tiên tại vị trí: \",(timkiem(sapxep(num), n)))\n",
        "        print(\"Số bước lặp bằng: \", (timkiem(sapxep(num), n)+1))\n",
        "\n",
        "if _name__== \"__main_\":\n",
        "    main()"
      ],
      "execution_count": null,
      "outputs": []
    }
  ]
}