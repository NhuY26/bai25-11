{
  "nbformat": 4,
  "nbformat_minor": 0,
  "metadata": {
    "colab": {
      "name": "bt-25-11-tk(2).ipynb",
      "provenance": [],
      "authorship_tag": "ABX9TyMnQyT8byDfVTt1JoDsNMOJ",
      "include_colab_link": true
    },
    "kernelspec": {
      "name": "python3",
      "display_name": "Python 3"
    },
    "language_info": {
      "name": "python"
    }
  },
  "cells": [
    {
      "cell_type": "markdown",
      "metadata": {
        "id": "view-in-github",
        "colab_type": "text"
      },
      "source": [
        "<a href=\"https://colab.research.google.com/github/NhuY26/bai25-11/blob/main/bt_25_11_tk(2).ipynb\" target=\"_parent\"><img src=\"https://colab.research.google.com/assets/colab-badge.svg\" alt=\"Open In Colab\"/></a>"
      ]
    },
    {
      "cell_type": "code",
      "metadata": {
        "colab": {
          "base_uri": "https://localhost:8080/"
        },
        "id": "VrY04fmTVuy_",
        "outputId": "1b8931c4-bd50-4641-8b9e-1f555accf7e2"
      },
      "source": [
        "#3\n",
        "import random\n",
        "n = int(input('nhap n: '))\n",
        "a = int(input('nhap a: '))\n",
        "b = int(input('nhap b: '))\n",
        "lst = []\n",
        "for i in range(n):\n",
        "    x = random.randint(a,b)\n",
        "    lst.append(x)\n",
        "print(lst)\n",
        "x = b + 1\n",
        "while (x<a) or x > b:\n",
        "    x = int(input('nhap x: '))\n",
        "for i in range(len(lst)):\n",
        "    for j in range(i+1, len(lst)):\n",
        "        if lst[i] > lst[j]:\n",
        "            lst[i], lst[j] = lst[j], lst[i]\n",
        "print(lst)\n",
        "l = 0 \n",
        "r = len(lst) -1\n",
        "count = 0\n",
        "kq = r + 1\n",
        "kq_count = 0\n",
        "while l <= r:\n",
        "    mid = int((l + r)/2)\n",
        "    count += 1\n",
        "    if x == lst[mid]:\n",
        "        if mid < kq:\n",
        "            kq = mid\n",
        "            kq_count = count\n",
        "    if lst[mid] < x:\n",
        "        l = mid + 1\n",
        "    else:\n",
        "        r = mid -1\n",
        "if kq < len(lst): \n",
        "    print('chi so: ', kq)\n",
        "    print('so lan lap: ', kq_count)\n",
        "else:\n",
        "    print('khong tim thay')"
      ],
      "execution_count": 3,
      "outputs": [
        {
          "output_type": "stream",
          "name": "stdout",
          "text": [
            "nhap n: 25\n",
            "nhap a: 10\n",
            "nhap b: 26\n",
            "[24, 17, 24, 25, 17, 20, 22, 21, 21, 13, 23, 15, 12, 18, 19, 19, 26, 15, 24, 22, 19, 18, 10, 18, 12]\n",
            "nhap x: 3\n",
            "nhap x: 0\n",
            "nhap x: 10\n",
            "[10, 12, 12, 13, 15, 15, 17, 17, 18, 18, 18, 19, 19, 19, 20, 21, 21, 22, 22, 23, 24, 24, 24, 25, 26]\n",
            "chi so:  0\n",
            "so lan lap:  4\n"
          ]
        }
      ]
    },
    {
      "cell_type": "code",
      "metadata": {
        "colab": {
          "base_uri": "https://localhost:8080/"
        },
        "id": "N3vBbWKKWGfD",
        "outputId": "4239f9d3-a034-4550-f95a-bbe42727bdcc"
      },
      "source": [
        "#4\n",
        "import random\n",
        "n = int(input('nhap n: '))\n",
        "a = int(input('nhap a: '))\n",
        "b = int(input('nhap b: '))\n",
        "lst = []\n",
        "for i in range(n):\n",
        "    x = random.randint(a,b)\n",
        "    lst.append(x)\n",
        "print(lst)\n",
        "x = b + 1\n",
        "while (x<a) or x > b:\n",
        "    x = int(input('nhap x: '))\n",
        "for i in range(len(lst)):\n",
        "    for j in range(i+1, len(lst)):\n",
        "        if lst[i] > lst[j]:\n",
        "            lst[i], lst[j] = lst[j], lst[i]\n",
        "print(lst)\n",
        "l = 0 \n",
        "r = len(lst) -1\n",
        "count = 0\n",
        "flag = False\n",
        "while l <= r:\n",
        "    mid = int((l + r)/2)\n",
        "    count += 1\n",
        "    if x == lst[mid]:\n",
        "        print('chi so',mid)\n",
        "        print('so lan lap',count)\n",
        "        flag = True\n",
        "    if lst[mid] < x:\n",
        "        l = mid + 1\n",
        "    else:\n",
        "        r = mid -1\n",
        "if not flag:\n",
        "    print('khong tim thay')"
      ],
      "execution_count": 6,
      "outputs": [
        {
          "output_type": "stream",
          "name": "stdout",
          "text": [
            "nhap n: 10\n",
            "nhap a: 25\n",
            "nhap b: 26\n",
            "[26, 25, 26, 26, 26, 25, 26, 26, 26, 25]\n",
            "nhap x: 25\n",
            "[25, 25, 25, 26, 26, 26, 26, 26, 26, 26]\n",
            "chi so 1\n",
            "so lan lap 2\n",
            "chi so 0\n",
            "so lan lap 3\n"
          ]
        }
      ]
    }
  ]
}