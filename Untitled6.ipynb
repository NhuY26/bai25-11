{
  "nbformat": 4,
  "nbformat_minor": 0,
  "metadata": {
    "colab": {
      "name": "Untitled6.ipynb",
      "provenance": [],
      "authorship_tag": "ABX9TyOqdwC6YBJAlH99a1WChmVf",
      "include_colab_link": true
    },
    "kernelspec": {
      "name": "python3",
      "display_name": "Python 3"
    },
    "language_info": {
      "name": "python"
    }
  },
  "cells": [
    {
      "cell_type": "markdown",
      "metadata": {
        "id": "view-in-github",
        "colab_type": "text"
      },
      "source": [
        "<a href=\"https://colab.research.google.com/github/NhuY26/bai25-11/blob/main/Untitled6.ipynb\" target=\"_parent\"><img src=\"https://colab.research.google.com/assets/colab-badge.svg\" alt=\"Open In Colab\"/></a>"
      ]
    },
    {
      "cell_type": "code",
      "metadata": {
        "id": "-kk7OPEQS3H1"
      },
      "source": [
        "#1\n",
        "chuoi1 = input(\"Nhập 1 chuỗi: \")\n",
        "\n",
        "tentep = input(\"Nhập tên tệp: \") + \".txt\"\n",
        "\n",
        "with open (tentep, \"w\") as f:\n",
        "    f.write(chuoi1)"
      ],
      "execution_count": null,
      "outputs": []
    },
    {
      "cell_type": "code",
      "metadata": {
        "id": "j70mTR8iS6dk"
      },
      "source": [
        "#2\n",
        "tentep = input(\"Nhập tên tệp: \") + \".txt\"\n",
        "\n",
        "with open (tentep, \"r\") as f:\n",
        "    f.seek(0)\n",
        "    tmp = f.read()\n",
        "\n",
        "print(tmp)\n"
      ],
      "execution_count": null,
      "outputs": []
    },
    {
      "cell_type": "code",
      "metadata": {
        "id": "T3To625mS9ZK"
      },
      "source": [
        "#3\n",
        "tentep = input(\"Nhập tên tệp: \") + \".txt\"\n",
        "\n",
        "with open(tentep, \"a+\") as f:\n",
        "    chuoi1 = input(\"Nhập 1 chuỗi: \")\n",
        "\n",
        "    f.write(chuoi1)"
      ],
      "execution_count": null,
      "outputs": []
    },
    {
      "cell_type": "code",
      "metadata": {
        "id": "uXk3xCPZTA0U"
      },
      "source": [
        "#4\n",
        "tentep = input(\"Nhập tên tệp: \") + \".txt\"\n",
        "\n",
        "with open(tentep, \"r\") as f:\n",
        "    f.seek(0)\n",
        "    tmp = f.read()\n",
        "\n",
        "print(tmp)"
      ],
      "execution_count": null,
      "outputs": []
    },
    {
      "cell_type": "code",
      "metadata": {
        "id": "dBdolll0TEVg"
      },
      "source": [
        "#5\n"
      ],
      "execution_count": null,
      "outputs": []
    },
    {
      "cell_type": "code",
      "metadata": {
        "id": "KCNmBFZoTHIJ"
      },
      "source": [
        ""
      ],
      "execution_count": null,
      "outputs": []
    }
  ]
}