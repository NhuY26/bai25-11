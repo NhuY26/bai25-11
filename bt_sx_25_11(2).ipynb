{
  "nbformat": 4,
  "nbformat_minor": 0,
  "metadata": {
    "colab": {
      "name": "bt-sx-25-11(2).ipynb",
      "provenance": [],
      "authorship_tag": "ABX9TyN0mNojYq35RqqVPdZ3aUed",
      "include_colab_link": true
    },
    "kernelspec": {
      "name": "python3",
      "display_name": "Python 3"
    },
    "language_info": {
      "name": "python"
    }
  },
  "cells": [
    {
      "cell_type": "markdown",
      "metadata": {
        "id": "view-in-github",
        "colab_type": "text"
      },
      "source": [
        "<a href=\"https://colab.research.google.com/github/NhuY26/bai25-11/blob/main/bt_sx_25_11(2).ipynb\" target=\"_parent\"><img src=\"https://colab.research.google.com/assets/colab-badge.svg\" alt=\"Open In Colab\"/></a>"
      ]
    },
    {
      "cell_type": "code",
      "metadata": {
        "colab": {
          "base_uri": "https://localhost:8080/"
        },
        "id": "JEdHblR-VND7",
        "outputId": "198fa159-1557-43e3-c875-d9d7ba42f6e6"
      },
      "source": [
        "#5\n",
        "import random\n",
        "n = int(input(\"số phần tử: \"))\n",
        "max_value = int(input(\"max value = \"))\n",
        "lst = []\n",
        "for i in range(n):\n",
        "    x = random.randint(0,max_value)\n",
        "    lst.append(x)\n",
        "print(\"sắp xếp theo thứ tự tăng dần nhập số 1\")\n",
        "print(\"sắp xếp theo thứ tự giảm dần nhập số 2\")\n",
        "so = float((input(\"nhap so: \")))\n",
        "for i in range(len(lst)):\n",
        "    for j in range(i+1, len(lst)):\n",
        "        if so == 1:\n",
        "            if lst[i] > lst[j]:\n",
        "                lst[i],lst[j] = lst[j],lst[i]\n",
        "        elif so == 2:\n",
        "            if lst[i] < lst[j]:\n",
        "                lst[i],lst[j] = lst[j],lst[i]\n",
        "print(lst)"
      ],
      "execution_count": 1,
      "outputs": [
        {
          "output_type": "stream",
          "name": "stdout",
          "text": [
            "số phần tử: 10\n",
            "max value = 30\n",
            "sắp xếp theo thứ tự tăng dần nhập số 1\n",
            "sắp xếp theo thứ tự giảm dần nhập số 2\n",
            "nhap so: 15\n",
            "[18, 13, 30, 21, 15, 5, 20, 1, 18, 17]\n"
          ]
        }
      ]
    },
    {
      "cell_type": "code",
      "metadata": {
        "colab": {
          "base_uri": "https://localhost:8080/"
        },
        "id": "Z1TiF8u5VbAi",
        "outputId": "4da1d924-390a-4167-8b90-8215fdf5be04"
      },
      "source": [
        "#6\n",
        "import random\n",
        "def sinh_ngau_nhien_danh_sach_so_nguyen(n, max_value):\n",
        "    x = []\n",
        "    for i in range(n):\n",
        "        lst = random.randint(0,max_value)\n",
        "        x.append(lst)\n",
        "    print(\"ds chưa sx: \", x)\n",
        "    return x\n",
        "def sap_xep(x, so):\n",
        "    for i in range(len(x)):\n",
        "        for j in range(i+1, len(x)):\n",
        "            if so == 1:\n",
        "                if x[i] > x[j]:\n",
        "                    x[i],x[j] = x[j],x[i]\n",
        "            elif so == 2:\n",
        "                if x[i] < x[j]:\n",
        "                    x[i],x[j] = x[j],x[i]\n",
        "    print(\"ds đã sx: \",x)\n",
        "    return x\n",
        "def main():\n",
        "    n = int(input(\"số phần tử: \"))\n",
        "    max_value = int(input(\"max value = \"))\n",
        "    lst1 = sinh_ngau_nhien_danh_sach_so_nguyen(n, max_value)\n",
        "    print(\"sắp xếp theo thứ tự tăng dần nhập số 1\")\n",
        "    print(\"sắp xếp theo thứ tự giảm dần nhập số 2\")\n",
        "    so = float((input(\"nhap so: \")))\n",
        "    a = sap_xep(lst1, so)\n",
        "if __name__ == \"__main__\":\n",
        "    main()"
      ],
      "execution_count": 2,
      "outputs": [
        {
          "output_type": "stream",
          "name": "stdout",
          "text": [
            "số phần tử: 25\n",
            "max value = 40\n",
            "ds chưa sx:  [29, 6, 20, 22, 7, 6, 6, 0, 32, 28, 3, 12, 24, 14, 31, 17, 31, 13, 33, 31, 5, 4, 34, 32, 2]\n",
            "sắp xếp theo thứ tự tăng dần nhập số 1\n",
            "sắp xếp theo thứ tự giảm dần nhập số 2\n",
            "nhap so: 3\n",
            "ds đã sx:  [29, 6, 20, 22, 7, 6, 6, 0, 32, 28, 3, 12, 24, 14, 31, 17, 31, 13, 33, 31, 5, 4, 34, 32, 2]\n"
          ]
        }
      ]
    }
  ]
}