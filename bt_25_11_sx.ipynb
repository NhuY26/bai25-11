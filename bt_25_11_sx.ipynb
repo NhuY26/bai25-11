{
  "nbformat": 4,
  "nbformat_minor": 0,
  "metadata": {
    "colab": {
      "name": "bt-25-11-sx.ipynb",
      "provenance": [],
      "authorship_tag": "ABX9TyMBPp8MrMZ+LzWhwLgaa9ov",
      "include_colab_link": true
    },
    "kernelspec": {
      "name": "python3",
      "display_name": "Python 3"
    },
    "language_info": {
      "name": "python"
    }
  },
  "cells": [
    {
      "cell_type": "markdown",
      "metadata": {
        "id": "view-in-github",
        "colab_type": "text"
      },
      "source": [
        "<a href=\"https://colab.research.google.com/github/NhuY26/bai25-11/blob/main/bt_25_11_sx.ipynb\" target=\"_parent\"><img src=\"https://colab.research.google.com/assets/colab-badge.svg\" alt=\"Open In Colab\"/></a>"
      ]
    },
    {
      "cell_type": "code",
      "metadata": {
        "colab": {
          "base_uri": "https://localhost:8080/"
        },
        "id": "sw_1GXiBwX9X",
        "outputId": "29108b04-702f-4c3c-8bdc-06904b51ce52"
      },
      "source": [
        "#1\n",
        "a = []\n",
        "for i in range(10):\n",
        "  tam = int(input())\n",
        "  a.append(tam)\n",
        "for i in range(len(a)-1):\n",
        "  for j in range(i+1, len(a)):\n",
        "    if a[i] > a[j]:\n",
        "      a[i], a[j] = a[j], a[i]\n",
        "\n",
        "print(\"Ket qua sap xep theo chieu tang dan\", a)"
      ],
      "execution_count": 23,
      "outputs": [
        {
          "output_type": "stream",
          "name": "stdout",
          "text": [
            "10\n",
            "9\n",
            "8\n",
            "7\n",
            "5\n",
            "4\n",
            "3\n",
            "2\n",
            "1\n",
            "0\n",
            "Ket qua sap xep theo chieu tang dan [0, 1, 2, 3, 4, 5, 7, 8, 9, 10]\n"
          ]
        }
      ]
    },
    {
      "cell_type": "code",
      "metadata": {
        "colab": {
          "base_uri": "https://localhost:8080/"
        },
        "id": "Qiqcim_-ycUg",
        "outputId": "7ebb9331-a519-41b6-f94b-4c0ae3b66f3f"
      },
      "source": [
        "#2\n",
        "def nhap_danh_sach_so_nguyen(n):\n",
        "    lst = []\n",
        "    for i in range(n):\n",
        "        so = (int(input('nhap so: ')))\n",
        "        lst.append(so)\n",
        "    return lst\n",
        "def sap_xep_danh_sach(lst):\n",
        "    for i in range(len(lst)):\n",
        "        for j in range(i+1, len(lst)):\n",
        "          if lst[i] > lst[j]:\n",
        "              lst[i], lst[j] = lst[j], lst[i]\n",
        "    return lst\n",
        "\n",
        "def main():\n",
        "    n = int(input('so luong can nhap: '))\n",
        "    x = nhap_danh_sach_so_nguyen(n)\n",
        "    y = sap_xep_danh_sach(x)\n",
        "    print(y)\n",
        "if __name__ == \"__main__\":\n",
        "    main()"
      ],
      "execution_count": null,
      "outputs": [
        {
          "output_type": "stream",
          "name": "stdout",
          "text": [
            "so luong can nhap: 4\n",
            "nhap so: 25\n",
            "nhap so: 10\n",
            "nhap so: 03\n",
            "nhap so: 18\n",
            "[3, 10, 18, 25]\n"
          ]
        }
      ]
    },
    {
      "cell_type": "code",
      "metadata": {
        "colab": {
          "base_uri": "https://localhost:8080/"
        },
        "id": "kKGVLL-QzsLp",
        "outputId": "3ba68615-d5a1-40da-c064-405079324260"
      },
      "source": [
        "#3\n",
        "n = float(input('nhap so thuc: '))\n",
        "lst = []\n",
        "while True:\n",
        "    lst.append(n)\n",
        "    print(\"bạn có muốn tiếp tục không\")\n",
        "    x = input(\"có xin ấn n hoặc N: \")\n",
        "    if (x == \"n\") or (x == \"N\"):\n",
        "        n = float(input(\"nhập số thực: \"))\n",
        "    else:\n",
        "        break\n",
        "for i in range(len(lst)):\n",
        "    for j in range(i+1, len(lst)):\n",
        "        if lst[i] > lst[j]:\n",
        "            lst[i], lst[j] = lst[j], lst[i]\n",
        "print(lst)"
      ],
      "execution_count": null,
      "outputs": [
        {
          "output_type": "stream",
          "name": "stdout",
          "text": [
            "nhap so thuc: 25\n",
            "bạn có muốn tiếp tục không\n",
            "có xin ấn n hoặc N: n\n",
            "nhập số thực: 10\n",
            "bạn có muốn tiếp tục không\n",
            "có xin ấn n hoặc N: n\n",
            "nhập số thực: 26\n",
            "bạn có muốn tiếp tục không\n",
            "có xin ấn n hoặc N: n\n",
            "nhập số thực: 10\n",
            "bạn có muốn tiếp tục không\n",
            "có xin ấn n hoặc N: n\n",
            "nhập số thực: 03\n",
            "bạn có muốn tiếp tục không\n",
            "có xin ấn n hoặc N: no\n",
            "[3.0, 10.0, 10.0, 25.0, 26.0]\n"
          ]
        }
      ]
    },
    {
      "cell_type": "code",
      "metadata": {
        "colab": {
          "base_uri": "https://localhost:8080/"
        },
        "id": "sRDHy3Sp0tmm",
        "outputId": "a6d4c6d3-00de-4752-b609-d9fa2827cf2e"
      },
      "source": [
        "#4\n",
        "def nhap_ds_so_thuc(n):\n",
        "    lst = []\n",
        "    while True:\n",
        "        lst.append(n)\n",
        "        print(\"bạn có muốn tiếp tục không\")\n",
        "        x = input(\"có xin ấn n hoặc N: \")\n",
        "        if (x == \"n\") or (x == \"N\"):\n",
        "            n = float(input(\"nhập số thực: \"))\n",
        "        else:\n",
        "            break\n",
        "    return lst\n",
        "def sap_xep_ds_so_thuc(lst):\n",
        "    for i in range(len(lst)):\n",
        "        for j in range(i+1, len(lst)):\n",
        "            if lst[i] > lst[j]:\n",
        "                lst[i], lst[j] = lst[j], lst[i]\n",
        "    return lst\n",
        "\n",
        "def main():\n",
        "    n = float(input('nhap so thuc: ')) \n",
        "    x = nhap_ds_so_thuc(n)\n",
        "    sx = sap_xep_ds_so_thuc(x)\n",
        "    print(sx)\n",
        "if __name__ == \"__main__\":\n",
        "    main()"
      ],
      "execution_count": null,
      "outputs": [
        {
          "output_type": "stream",
          "name": "stdout",
          "text": [
            "nhap so thuc: 25\n",
            "bạn có muốn tiếp tục không\n",
            "có xin ấn n hoặc N: n\n",
            "nhập số thực: 10\n",
            "bạn có muốn tiếp tục không\n",
            "có xin ấn n hoặc N: n\n",
            "nhập số thực: 26\n",
            "bạn có muốn tiếp tục không\n",
            "có xin ấn n hoặc N: n\n",
            "nhập số thực: 03\n",
            "bạn có muốn tiếp tục không\n",
            "có xin ấn n hoặc N: no\n",
            "[3.0, 10.0, 25.0, 26.0]\n"
          ]
        }
      ]
    }
  ]
}