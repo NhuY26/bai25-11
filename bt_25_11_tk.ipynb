{
  "nbformat": 4,
  "nbformat_minor": 0,
  "metadata": {
    "colab": {
      "name": "bt-25-11-tk.ipynb",
      "provenance": [],
      "authorship_tag": "ABX9TyNWidmNW96NOmZuYb0Rxx7J",
      "include_colab_link": true
    },
    "kernelspec": {
      "name": "python3",
      "display_name": "Python 3"
    },
    "language_info": {
      "name": "python"
    }
  },
  "cells": [
    {
      "cell_type": "markdown",
      "metadata": {
        "id": "view-in-github",
        "colab_type": "text"
      },
      "source": [
        "<a href=\"https://colab.research.google.com/github/NhuY26/bai25-11/blob/main/bt_25_11_tk.ipynb\" target=\"_parent\"><img src=\"https://colab.research.google.com/assets/colab-badge.svg\" alt=\"Open In Colab\"/></a>"
      ]
    },
    {
      "cell_type": "code",
      "metadata": {
        "colab": {
          "base_uri": "https://localhost:8080/"
        },
        "id": "PVwRdtnw1qWf",
        "outputId": "8038f673-5e4e-4816-cc13-c87e4da3eb1f"
      },
      "source": [
        "a = [-9, 1, -1, 2, 3, 9, 3, 4, 6]\n",
        "n = int(input(\"So can tim kiem n = \"))\n",
        "ketqua = []\n",
        "for i in range(len(a)):\n",
        "    if a[i] == n:\n",
        "        ketqua.append(i)\n",
        "if len(ketqua) > 0:\n",
        "    print(\"Cac phan tu cua danh sach co gia tri bang \", n, \" la \", ketqua)\n",
        "else:\n",
        "    print(\"Khong tim thay\")"
      ],
      "execution_count": 1,
      "outputs": [
        {
          "output_type": "stream",
          "name": "stdout",
          "text": [
            "So can tim kiem n = 9\n",
            "Cac phan tu cua danh sach co gia tri bang  9  la  [5]\n"
          ]
        }
      ]
    },
    {
      "cell_type": "code",
      "metadata": {
        "colab": {
          "base_uri": "https://localhost:8080/"
        },
        "id": "q-vcr2hI3M5h",
        "outputId": "9ce8f9a8-2213-4e9d-b905-4daa89ca381c"
      },
      "source": [
        "#1\n",
        "import random\n",
        "n = int(input('nhap n: '))\n",
        "a = int(input('nhap a: '))\n",
        "b = int(input('nhap b: '))\n",
        "lst = []\n",
        "for i in range(n):\n",
        "    x = random.randint(a,b)\n",
        "    lst.append(x)\n",
        "print(lst)\n",
        "x = b + 1\n",
        "while (x<a) or x > b:\n",
        "    x = int(input('nhap x: '))\n",
        "for i in range(len(lst)):\n",
        "    if lst[i] == x:\n",
        "        print(i)\n",
        "        break\n",
        "else:\n",
        "    print('khong co')\n",
        "    "
      ],
      "execution_count": 5,
      "outputs": [
        {
          "output_type": "stream",
          "name": "stdout",
          "text": [
            "nhap n: 25\n",
            "nhap a: 2\n",
            "nhap b: 6\n",
            "[2, 6, 3, 2, 2, 4, 6, 6, 3, 3, 2, 6, 4, 5, 5, 5, 2, 2, 6, 4, 3, 2, 4, 2, 4]\n",
            "nhap x: 10\n",
            "nhap x: 3\n",
            "2\n"
          ]
        }
      ]
    },
    {
      "cell_type": "code",
      "metadata": {
        "colab": {
          "base_uri": "https://localhost:8080/"
        },
        "id": "bEHJW-i-3h2Q",
        "outputId": "2d35697d-e7af-42bf-e2ac-c0df05fa18e8"
      },
      "source": [
        "#2\n",
        "import random\n",
        "n = int(input('nhap n: '))\n",
        "a = int(input('nhap a: '))\n",
        "b = int(input('nhap b: '))\n",
        "lst = []\n",
        "for i in range(n):\n",
        "    x = random.randint(a,b)\n",
        "    lst.append(x)\n",
        "print(lst)\n",
        "x = b + 1\n",
        "while (x<a) or x > b:\n",
        "    x = int(input('nhap x: '))\n",
        "for i in range(len(lst)):\n",
        "    if lst[i] == x:\n",
        "        print('chi so ',i)\n",
        "        print(\"so lan lap\", i+1)\n",
        "        break\n",
        "else:\n",
        "    print('khong co')\n",
        "    "
      ],
      "execution_count": 6,
      "outputs": [
        {
          "output_type": "stream",
          "name": "stdout",
          "text": [
            "nhap n: 25\n",
            "nhap a: 10\n",
            "nhap b: 26\n",
            "[24, 13, 15, 15, 18, 22, 20, 26, 24, 23, 16, 20, 15, 16, 18, 10, 14, 26, 18, 25, 10, 25, 17, 16, 18]\n",
            "nhap x: 3\n",
            "nhap x: 18\n",
            "chi so  4\n",
            "so lan lap 5\n"
          ]
        }
      ]
    },
    {
      "cell_type": "code",
      "metadata": {
        "id": "AAR6aG2K3xp5"
      },
      "source": [
        ""
      ],
      "execution_count": null,
      "outputs": []
    }
  ]
}