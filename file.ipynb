{
  "nbformat": 4,
  "nbformat_minor": 0,
  "metadata": {
    "colab": {
      "name": "file.ipynb",
      "provenance": [],
      "authorship_tag": "ABX9TyPgkysqMD2heI46KghoZVQE",
      "include_colab_link": true
    },
    "kernelspec": {
      "name": "python3",
      "display_name": "Python 3"
    },
    "language_info": {
      "name": "python"
    }
  },
  "cells": [
    {
      "cell_type": "markdown",
      "metadata": {
        "id": "view-in-github",
        "colab_type": "text"
      },
      "source": [
        "<a href=\"https://colab.research.google.com/github/NhuY26/bai25-11/blob/main/file.ipynb\" target=\"_parent\"><img src=\"https://colab.research.google.com/assets/colab-badge.svg\" alt=\"Open In Colab\"/></a>"
      ]
    },
    {
      "cell_type": "code",
      "metadata": {
        "id": "-kk7OPEQS3H1",
        "colab": {
          "base_uri": "https://localhost:8080/"
        },
        "outputId": "f9a15cdc-0bb2-4ddc-a2f2-bcf3f672ef2f"
      },
      "source": [
        "#1\n",
        "chuoi = input(\"nhập chuỗi: \")\n",
        "tenfile = input(\"Nhập tên: \")\n",
        "f = open(tenfile, 'w')\n",
        "f.write(chuoi)\n",
        "f.close()"
      ],
      "execution_count": 56,
      "outputs": [
        {
          "name": "stdout",
          "output_type": "stream",
          "text": [
            "nhập chuỗi: bai\n",
            "Nhập tên: file\n"
          ]
        }
      ]
    },
    {
      "cell_type": "code",
      "metadata": {
        "id": "j70mTR8iS6dk",
        "colab": {
          "base_uri": "https://localhost:8080/"
        },
        "outputId": "aa08ae63-44db-495c-a796-025a0f318424"
      },
      "source": [
        "tentep = input(\"Nhập tên tệp: \") + \".txt\"\n",
        "with open (tentep, \"r\") as f:\n",
        "    f.seek(0)\n",
        "    tmp = f.read()\n",
        "print(tmp)\n"
      ],
      "execution_count": null,
      "outputs": [
        {
          "output_type": "stream",
          "name": "stdout",
          "text": [
            "Nhập tên tệp: file\n",
            "bai\n"
          ]
        }
      ]
    },
    {
      "cell_type": "code",
      "metadata": {
        "id": "T3To625mS9ZK",
        "colab": {
          "base_uri": "https://localhost:8080/"
        },
        "outputId": "61e507c7-6a4f-412e-c05f-4f6afe68cc7b"
      },
      "source": [
        "#3\n",
        "tenfile = input(\"tên file: \")\n",
        "chuoi = input(\"nhập chuỗi: \")\n",
        "f = open(tenfile, 'a',)\n",
        "f.write(chuoi)\n",
        "f.close()"
      ],
      "execution_count": 57,
      "outputs": [
        {
          "name": "stdout",
          "output_type": "stream",
          "text": [
            "tên file: file\n",
            "nhập chuỗi: bai\n"
          ]
        }
      ]
    },
    {
      "cell_type": "code",
      "metadata": {
        "id": "uXk3xCPZTA0U",
        "colab": {
          "base_uri": "https://localhost:8080/"
        },
        "outputId": "37583982-cf32-4bcc-c713-2d6d558b80ed"
      },
      "source": [
        "#4\n",
        "f = open(tenfile, 'r')\n",
        "a = f.read()\n",
        "print(a)\n",
        "f.close()"
      ],
      "execution_count": 58,
      "outputs": [
        {
          "output_type": "stream",
          "name": "stdout",
          "text": [
            "baibai\n"
          ]
        }
      ]
    },
    {
      "cell_type": "code",
      "metadata": {
        "id": "0CJD59AVvH8t"
      },
      "source": [
        "import random\n",
        "danhsach = []\n",
        "check = 0\n",
        "for i in range(1000):\n",
        "    danhsach.append(random.randint(-1000, 1000))\n",
        "tenfile = input(\"tên file: \")\n",
        "print(len(danhsach))\n",
        "for i in danhsach:\n",
        "    if check < 9:\n",
        "        f = open(tenfile, 'a')\n",
        "        chuoikytu = str(i)+','\n",
        "        f.write(chuoikytu)\n",
        "        f.close()\n",
        "        check +=1\n",
        "    else:\n",
        "        f = open(tenfile, 'a')\n",
        "        f.write(str(i))\n",
        "        f.close()\n",
        "        check = 0\n",
        "f = open(tenfile, 'r')\n",
        "a = f.readlines()\n",
        "for i in a:\n",
        "    print(i.replace(\",\", \"\\t\"))\n",
        "f.close()"
      ],
      "execution_count": null,
      "outputs": []
    }
  ]
}